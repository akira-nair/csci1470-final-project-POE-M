{
 "cells": [
  {
   "cell_type": "code",
   "execution_count": 1,
   "metadata": {},
   "outputs": [
    {
     "name": "stderr",
     "output_type": "stream",
     "text": [
      "2023-04-28 10:25:17.684943: I tensorflow/core/platform/cpu_feature_guard.cc:193] This TensorFlow binary is optimized with oneAPI Deep Neural Network Library (oneDNN) to use the following CPU instructions in performance-critical operations:  AVX2 FMA\n",
      "To enable them in other operations, rebuild TensorFlow with the appropriate compiler flags.\n"
     ]
    }
   ],
   "source": [
    "import tensorflow as tf\n",
    "import pandas as pd\n",
    "import numpy as np\n",
    "import re\n",
    "from tensorflow.keras.preprocessing.sequence import pad_sequences"
   ]
  },
  {
   "cell_type": "code",
   "execution_count": 2,
   "metadata": {},
   "outputs": [],
   "source": [
    "def tokenize(sentence: str):\n",
    "    tokens = sentence.lower().split()\n",
    "    tokens = [process_token(t) for t in tokens]\n",
    "    return tokens\n",
    "\n",
    "def process_token(token: str):\n",
    "    if token.strip() == \"/\":\n",
    "        return token\n",
    "    return re.sub(r'[^\\w\\s]', '', token.strip())\n",
    "\n",
    "def vectorize(tokens):\n",
    "    vocab, index = {}, 1\n",
    "    vocab['<pad>'] = 0\n",
    "    for token in tokens:\n",
    "        token = token.strip()\n",
    "        if token not in vocab:\n",
    "            vocab[token] = index\n",
    "            index += 1\n",
    "    return vocab\n",
    "\n",
    "def find_max_length(vectorized_poems):\n",
    "    max_length = 0\n",
    "    for poem in vectorized_poems:\n",
    "        max_length = max(max_length, len(poem))   \n",
    "    return max_length"
   ]
  },
  {
   "cell_type": "code",
   "execution_count": 5,
   "metadata": {},
   "outputs": [
    {
     "data": {
      "text/html": [
       "<div>\n",
       "<style scoped>\n",
       "    .dataframe tbody tr th:only-of-type {\n",
       "        vertical-align: middle;\n",
       "    }\n",
       "\n",
       "    .dataframe tbody tr th {\n",
       "        vertical-align: top;\n",
       "    }\n",
       "\n",
       "    .dataframe thead th {\n",
       "        text-align: right;\n",
       "    }\n",
       "</style>\n",
       "<table border=\"1\" class=\"dataframe\">\n",
       "  <thead>\n",
       "    <tr style=\"text-align: right;\">\n",
       "      <th></th>\n",
       "      <th>Unnamed: 0</th>\n",
       "      <th>id</th>\n",
       "      <th>processed_title</th>\n",
       "      <th>ups</th>\n",
       "      <th>keywords</th>\n",
       "    </tr>\n",
       "  </thead>\n",
       "  <tbody>\n",
       "    <tr>\n",
       "      <th>0</th>\n",
       "      <td>0</td>\n",
       "      <td>1020ac</td>\n",
       "      <td>There's nothing inside / There is nothing outs...</td>\n",
       "      <td>5</td>\n",
       "      <td>[('inside', 0.5268), ('outside', 0.3751), ('se...</td>\n",
       "    </tr>\n",
       "    <tr>\n",
       "      <th>1</th>\n",
       "      <td>1</td>\n",
       "      <td>107cob</td>\n",
       "      <td>From whole we crumble / Forever lost to chaos ...</td>\n",
       "      <td>1</td>\n",
       "      <td>[('chaos', 0.5962), ('crumble', 0.4749), ('for...</td>\n",
       "    </tr>\n",
       "    <tr>\n",
       "      <th>2</th>\n",
       "      <td>2</td>\n",
       "      <td>109a51</td>\n",
       "      <td>Indistinctiveness / Immeasurability / Capitalism</td>\n",
       "      <td>3</td>\n",
       "      <td>[('indistinctiveness', 0.7664), ('immeasurabil...</td>\n",
       "    </tr>\n",
       "    <tr>\n",
       "      <th>3</th>\n",
       "      <td>3</td>\n",
       "      <td>10eysi</td>\n",
       "      <td>Internet is down / Obligations go bye-bye / Of...</td>\n",
       "      <td>9</td>\n",
       "      <td>[('office', 0.5033), ('obligations', 0.4663), ...</td>\n",
       "    </tr>\n",
       "    <tr>\n",
       "      <th>4</th>\n",
       "      <td>4</td>\n",
       "      <td>10f79k</td>\n",
       "      <td>Cotton in my mouth / Needles in my blood and b...</td>\n",
       "      <td>1</td>\n",
       "      <td>[('needles', 0.5314), ('cotton', 0.4806), ('bl...</td>\n",
       "    </tr>\n",
       "  </tbody>\n",
       "</table>\n",
       "</div>"
      ],
      "text/plain": [
       "   Unnamed: 0      id                                    processed_title  ups  \\\n",
       "0           0  1020ac  There's nothing inside / There is nothing outs...    5   \n",
       "1           1  107cob  From whole we crumble / Forever lost to chaos ...    1   \n",
       "2           2  109a51   Indistinctiveness / Immeasurability / Capitalism    3   \n",
       "3           3  10eysi  Internet is down / Obligations go bye-bye / Of...    9   \n",
       "4           4  10f79k  Cotton in my mouth / Needles in my blood and b...    1   \n",
       "\n",
       "                                            keywords  \n",
       "0  [('inside', 0.5268), ('outside', 0.3751), ('se...  \n",
       "1  [('chaos', 0.5962), ('crumble', 0.4749), ('for...  \n",
       "2  [('indistinctiveness', 0.7664), ('immeasurabil...  \n",
       "3  [('office', 0.5033), ('obligations', 0.4663), ...  \n",
       "4  [('needles', 0.5314), ('cotton', 0.4806), ('bl...  "
      ]
     },
     "execution_count": 5,
     "metadata": {},
     "output_type": "execute_result"
    }
   ],
   "source": [
    "data = pd.read_csv('../data/haiku.csv')\n",
    "data = data.replace(\"/\", \" / \", regex=True)\n",
    "data = data.dropna()\n",
    "data.head()"
   ]
  },
  {
   "cell_type": "code",
   "execution_count": 6,
   "metadata": {},
   "outputs": [],
   "source": [
    "all_text = \" \".join(data[\"processed_title\"].to_list())\n",
    "tokens = tokenize(all_text)\n",
    "vocab_map = vectorize(tokens)"
   ]
  },
  {
   "cell_type": "code",
   "execution_count": 8,
   "metadata": {},
   "outputs": [
    {
     "data": {
      "text/plain": [
       "array([[    1,     2,     3, ...,     0,     0,     0],\n",
       "       [   14,    15,    16, ...,     0,     0,     0],\n",
       "       [   25,     4,    26, ...,     0,     0,     0],\n",
       "       ...,\n",
       "       [  549,  5557,   424, ...,     0,     0,     0],\n",
       "       [ 1084,  6422,  1464, ...,     0,     0,     0],\n",
       "       [  414, 10429,     4, ...,     0,     0,     0]], dtype=int32)"
      ]
     },
     "execution_count": 8,
     "metadata": {},
     "output_type": "execute_result"
    }
   ],
   "source": [
    "data[\"vectorized\"] = data[\"processed_title\"].apply(lambda x: [vocab_map[t] for t in tokenize(x)])\n",
    "data = data[[a.count(4) <= 2 for a in data['vectorized']]]\n",
    "max_length = find_max_length(data[\"vectorized\"])\n",
    "data = data[data['vectorized'].apply(lambda x: len(x) <= 19)]\n",
    "data.head()\n",
    "data_vectorized_list = data[\"vectorized\"].to_list()\n",
    "padded_data = pad_sequences(data_vectorized_list, padding='post')\n",
    "haikus = np.array(padded_data)\n",
    "haikus"
   ]
  },
  {
   "cell_type": "code",
   "execution_count": 9,
   "metadata": {},
   "outputs": [],
   "source": [
    "x = haikus[:, :19-1]  # input consists of all words except the last\n",
    "y = haikus[:, 1:]"
   ]
  },
  {
   "cell_type": "code",
   "execution_count": 10,
   "metadata": {},
   "outputs": [],
   "source": [
    "from sklearn.model_selection import train_test_split\n",
    "x_train, x_test, y_train, y_test = train_test_split(x, y)"
   ]
  },
  {
   "cell_type": "code",
   "execution_count": 11,
   "metadata": {},
   "outputs": [],
   "source": [
    "# training_examples = []\n",
    "# window_size = 4\n",
    "# for haiku in haikus:\n",
    "#     for i in range(len(haiku) - window_size + 1):\n",
    "#         input_words = haiku[i:i+window_size-1]\n",
    "#         output_word = haiku[i+window_size-1]\n",
    "#         training_examples.append((input_words, output_word))\n",
    "# training_examples[:20]"
   ]
  },
  {
   "attachments": {},
   "cell_type": "markdown",
   "metadata": {},
   "source": [
    "## Transformer"
   ]
  },
  {
   "cell_type": "code",
   "execution_count": 12,
   "metadata": {},
   "outputs": [],
   "source": [
    "import tensorflow as tf\n",
    "from tensorflow import keras\n",
    "from keras.layers import Input, Embedding, Dense, Dropout, LayerNormalization\n",
    "from keras.layers import MultiHeadAttention, TimeDistributed, Add, Concatenate\n",
    "from keras.models import Model"
   ]
  },
  {
   "cell_type": "code",
   "execution_count": 13,
   "metadata": {},
   "outputs": [
    {
     "name": "stderr",
     "output_type": "stream",
     "text": [
      "2023-04-28 10:27:02.022116: I tensorflow/core/platform/cpu_feature_guard.cc:193] This TensorFlow binary is optimized with oneAPI Deep Neural Network Library (oneDNN) to use the following CPU instructions in performance-critical operations:  AVX2 FMA\n",
      "To enable them in other operations, rebuild TensorFlow with the appropriate compiler flags.\n"
     ]
    }
   ],
   "source": [
    "# Encoder\n",
    "encoder_inputs = Input(shape=(16,), name='encoder_inputs')\n",
    "embedding_dim = 32\n",
    "hidden_dim = 256\n",
    "x = Embedding(len(vocab_map)+1, embedding_dim)(encoder_inputs)\n",
    "# Self-attention layer\n",
    "attn_output = MultiHeadAttention(num_heads=4, key_dim=embedding_dim)(x, x)\n",
    "x = Add()([x, attn_output])\n",
    "x = LayerNormalization(epsilon=1e-6)(x)\n",
    "# Feed-forward layer\n",
    "ff_output = TimeDistributed(Dense(hidden_dim, activation='relu'))(x)\n",
    "ff_output = TimeDistributed(Dense(embedding_dim))(ff_output)\n",
    "x = Add()([x, ff_output])\n",
    "encoder_outputs = LayerNormalization(epsilon=1e-6)(x)\n",
    "# -----\n",
    "# Decoder\n",
    "decoder_inputs = Input(shape=(15,), name='decoder_inputs')\n",
    "x = Embedding(len(vocab_map)+1, embedding_dim)(decoder_inputs)\n",
    "# Self-attention layer\n",
    "attn_output1 = MultiHeadAttention(num_heads=4, key_dim=embedding_dim)(x, x)\n",
    "x = Add()([x, attn_output1])\n",
    "x = LayerNormalization(epsilon=1e-6)(x)\n",
    "# Encoder-decoder attention layer\n",
    "attn_output2 = MultiHeadAttention(num_heads=4, key_dim=embedding_dim)(x, encoder_outputs)\n",
    "x = Add()([x, attn_output2])\n",
    "x = LayerNormalization(epsilon=1e-6)(x)\n",
    "decoder_outputs = TimeDistributed(Dense(len(vocab_map)+1, activation='softmax'))(x)"
   ]
  },
  {
   "cell_type": "code",
   "execution_count": 14,
   "metadata": {},
   "outputs": [],
   "source": [
    "# Define the model\n",
    "model = Model(inputs=[encoder_inputs, decoder_inputs], outputs=decoder_outputs)"
   ]
  },
  {
   "cell_type": "code",
   "execution_count": 15,
   "metadata": {},
   "outputs": [],
   "source": [
    "x = haikus[:, :-3]\n",
    "y = haikus[:, 3:]"
   ]
  },
  {
   "cell_type": "code",
   "execution_count": 16,
   "metadata": {},
   "outputs": [],
   "source": [
    "x_train, x_test, y_train, y_test = train_test_split(x, y, test_size=0.2, random_state=42)"
   ]
  },
  {
   "cell_type": "code",
   "execution_count": 17,
   "metadata": {},
   "outputs": [],
   "source": [
    "model.compile(optimizer='adam', loss='sparse_categorical_crossentropy')"
   ]
  },
  {
   "cell_type": "code",
   "execution_count": 18,
   "metadata": {},
   "outputs": [
    {
     "name": "stdout",
     "output_type": "stream",
     "text": [
      "Epoch 1/5\n",
      "48/48 [==============================] - 52s 981ms/step - loss: 8.7813\n",
      "Epoch 2/5\n",
      "48/48 [==============================] - 47s 984ms/step - loss: 6.7862\n",
      "Epoch 3/5\n",
      "48/48 [==============================] - 46s 953ms/step - loss: 5.5027\n",
      "Epoch 4/5\n",
      "48/48 [==============================] - 46s 966ms/step - loss: 4.9354\n",
      "Epoch 5/5\n",
      "48/48 [==============================] - 48s 1s/step - loss: 4.6432\n"
     ]
    },
    {
     "data": {
      "text/plain": [
       "<keras.callbacks.History at 0x7f9d70780550>"
      ]
     },
     "execution_count": 18,
     "metadata": {},
     "output_type": "execute_result"
    }
   ],
   "source": [
    "model.fit(x=[x_train, y_train[:, :-1]], y=y_train[:, 1:], batch_size=256, epochs=5)"
   ]
  },
  {
   "cell_type": "markdown",
   "metadata": {},
   "source": []
  },
  {
   "cell_type": "code",
   "execution_count": 19,
   "metadata": {},
   "outputs": [],
   "source": [
    "vocab_map_inv = dict([(value, key) for key, value in vocab_map.items()])"
   ]
  },
  {
   "cell_type": "code",
   "execution_count": 23,
   "metadata": {},
   "outputs": [],
   "source": [
    "def generate_poem(input_words: list):\n",
    "    window_size = 3\n",
    "    # while len(input_words) < window_size - 1:\n",
    "    #     input_words.insert(0, \"<pad>\")\n",
    "    vectorized_input = [vocab_map[word] for word in input_words]\n",
    "    print(f\"User specified words {input_words} which were vectorized as {vectorized_input}\")\n",
    "    output_poem = input_words\n",
    "    \n",
    "    for i in range(13):\n",
    "        input = np.array([np.pad(vectorized_input, (0, 16 - len(vectorized_input)), constant_values=len(vocab_map))])\n",
    "        prediction = model.predict([input, np.zeros((1, 15))], verbose = 0)\n",
    "        new_word_vector = np.argmax(prediction[0, i])\n",
    "        vectorized_input.append(new_word_vector)\n",
    "        new_word = vocab_map_inv[new_word_vector]\n",
    "        output_poem.append(new_word)\n",
    "    output = \" \".join(output_poem)\n",
    "    print(f\"OUTPUT POEM: {output}\")"
   ]
  },
  {
   "cell_type": "code",
   "execution_count": 25,
   "metadata": {},
   "outputs": [
    {
     "name": "stdout",
     "output_type": "stream",
     "text": [
      "User specified words ['hello', 'where', 'it'] which were vectorized as [220, 653, 129]\n",
      "0\n",
      "1\n",
      "2\n",
      "3\n",
      "4\n",
      "5\n",
      "6\n",
      "7\n",
      "8\n",
      "9\n",
      "10\n",
      "11\n",
      "12\n",
      "OUTPUT POEM: hello where it <pad> <pad> <pad> <pad> <pad> <pad> <pad> <pad> <pad> <pad> <pad> <pad> <pad>\n"
     ]
    }
   ],
   "source": [
    "generate_poem([\"hello\", \"where\", \"it\"])"
   ]
  },
  {
   "cell_type": "code",
   "execution_count": null,
   "metadata": {},
   "outputs": [],
   "source": []
  }
 ],
 "metadata": {
  "kernelspec": {
   "display_name": "csci1470",
   "language": "python",
   "name": "python3"
  },
  "language_info": {
   "codemirror_mode": {
    "name": "ipython",
    "version": 3
   },
   "file_extension": ".py",
   "mimetype": "text/x-python",
   "name": "python",
   "nbconvert_exporter": "python",
   "pygments_lexer": "ipython3",
   "version": "3.10.9"
  },
  "orig_nbformat": 4
 },
 "nbformat": 4,
 "nbformat_minor": 2
}
