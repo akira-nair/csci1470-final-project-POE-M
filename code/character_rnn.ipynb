{
 "cells": [
  {
   "cell_type": "code",
   "execution_count": 6,
   "metadata": {},
   "outputs": [],
   "source": [
    "import tensorflow as tf\n",
    "import pandas as pd\n",
    "import numpy as np\n",
    "import re\n",
    "from tensorflow.keras.preprocessing.sequence import pad_sequences\n",
    "from keras.preprocessing.text import Tokenizer\n",
    "from keras.models import Sequential\n",
    "from keras.layers import LSTM, Embedding, Dense, SimpleRNN, GRU, Dropout, GlobalAveragePooling1D, Bidirectional\n",
    "from sklearn.model_selection import train_test_split\n",
    "import matplotlib.pyplot as plt\n",
    "import seaborn as sns\n",
    "sns.set(rc={\"figure.dpi\": 300})\n",
    "tf.keras.backend.clear_session()"
   ]
  },
  {
   "cell_type": "code",
   "execution_count": 7,
   "metadata": {},
   "outputs": [
    {
     "data": {
      "text/html": [
       "<div>\n",
       "<style scoped>\n",
       "    .dataframe tbody tr th:only-of-type {\n",
       "        vertical-align: middle;\n",
       "    }\n",
       "\n",
       "    .dataframe tbody tr th {\n",
       "        vertical-align: top;\n",
       "    }\n",
       "\n",
       "    .dataframe thead th {\n",
       "        text-align: right;\n",
       "    }\n",
       "</style>\n",
       "<table border=\"1\" class=\"dataframe\">\n",
       "  <thead>\n",
       "    <tr style=\"text-align: right;\">\n",
       "      <th></th>\n",
       "      <th>Unnamed: 0</th>\n",
       "      <th>id</th>\n",
       "      <th>processed_title</th>\n",
       "      <th>ups</th>\n",
       "      <th>keywords</th>\n",
       "    </tr>\n",
       "  </thead>\n",
       "  <tbody>\n",
       "    <tr>\n",
       "      <th>0</th>\n",
       "      <td>0</td>\n",
       "      <td>1020ac</td>\n",
       "      <td>There's nothing inside / There is nothing outs...</td>\n",
       "      <td>5</td>\n",
       "      <td>[('inside', 0.5268), ('outside', 0.3751), ('se...</td>\n",
       "    </tr>\n",
       "    <tr>\n",
       "      <th>1</th>\n",
       "      <td>1</td>\n",
       "      <td>107cob</td>\n",
       "      <td>From whole we crumble / Forever lost to chaos ...</td>\n",
       "      <td>1</td>\n",
       "      <td>[('chaos', 0.5962), ('crumble', 0.4749), ('for...</td>\n",
       "    </tr>\n",
       "    <tr>\n",
       "      <th>2</th>\n",
       "      <td>2</td>\n",
       "      <td>109a51</td>\n",
       "      <td>Indistinctiveness / Immeasurability / Capitalism</td>\n",
       "      <td>3</td>\n",
       "      <td>[('indistinctiveness', 0.7664), ('immeasurabil...</td>\n",
       "    </tr>\n",
       "    <tr>\n",
       "      <th>3</th>\n",
       "      <td>3</td>\n",
       "      <td>10eysi</td>\n",
       "      <td>Internet is down / Obligations go bye-bye / Of...</td>\n",
       "      <td>9</td>\n",
       "      <td>[('office', 0.5033), ('obligations', 0.4663), ...</td>\n",
       "    </tr>\n",
       "    <tr>\n",
       "      <th>4</th>\n",
       "      <td>4</td>\n",
       "      <td>10f79k</td>\n",
       "      <td>Cotton in my mouth / Needles in my blood and b...</td>\n",
       "      <td>1</td>\n",
       "      <td>[('needles', 0.5314), ('cotton', 0.4806), ('bl...</td>\n",
       "    </tr>\n",
       "  </tbody>\n",
       "</table>\n",
       "</div>"
      ],
      "text/plain": [
       "   Unnamed: 0      id                                    processed_title  ups  \\\n",
       "0           0  1020ac  There's nothing inside / There is nothing outs...    5   \n",
       "1           1  107cob  From whole we crumble / Forever lost to chaos ...    1   \n",
       "2           2  109a51   Indistinctiveness / Immeasurability / Capitalism    3   \n",
       "3           3  10eysi  Internet is down / Obligations go bye-bye / Of...    9   \n",
       "4           4  10f79k  Cotton in my mouth / Needles in my blood and b...    1   \n",
       "\n",
       "                                            keywords  \n",
       "0  [('inside', 0.5268), ('outside', 0.3751), ('se...  \n",
       "1  [('chaos', 0.5962), ('crumble', 0.4749), ('for...  \n",
       "2  [('indistinctiveness', 0.7664), ('immeasurabil...  \n",
       "3  [('office', 0.5033), ('obligations', 0.4663), ...  \n",
       "4  [('needles', 0.5314), ('cotton', 0.4806), ('bl...  "
      ]
     },
     "execution_count": 7,
     "metadata": {},
     "output_type": "execute_result"
    }
   ],
   "source": [
    "data = pd.read_csv('../data/haiku.csv')\n",
    "data = data.replace(\"/\", \" / \", regex=True)\n",
    "data = data.dropna()\n",
    "data.head()"
   ]
  },
  {
   "cell_type": "code",
   "execution_count": 8,
   "metadata": {},
   "outputs": [],
   "source": [
    "def process_raw_haiku(haiku):\n",
    "    tokens = tokenize(haiku)\n",
    "    return \" \".join(tokens)\n",
    "\n",
    "def tokenize(sentence: str):\n",
    "    tokens = sentence.lower().split()\n",
    "    tokens = [process_token(t) for t in tokens]\n",
    "    return tokens\n",
    "\n",
    "def process_token(token: str):\n",
    "    if token.strip() == \"/\":\n",
    "        return token\n",
    "    return re.sub(r'[^\\w\\s]', '', token.strip())"
   ]
  },
  {
   "attachments": {},
   "cell_type": "markdown",
   "metadata": {},
   "source": [
    "Create corpus"
   ]
  },
  {
   "cell_type": "code",
   "execution_count": 9,
   "metadata": {},
   "outputs": [],
   "source": [
    "data[\"processed_title\"] = data[\"processed_title\"].apply(lambda x: process_raw_haiku(x))\n",
    "corpus = data[\"processed_title\"].to_list()"
   ]
  },
  {
   "cell_type": "code",
   "execution_count": 10,
   "metadata": {},
   "outputs": [
    {
     "data": {
      "text/plain": [
       "['theres nothing inside / there is nothing outside me / i search on in hope',\n",
       " 'from whole we crumble / forever lost to chaos / never one again',\n",
       " 'indistinctiveness / immeasurability / capitalism']"
      ]
     },
     "execution_count": 10,
     "metadata": {},
     "output_type": "execute_result"
    }
   ],
   "source": [
    "corpus[:3]"
   ]
  },
  {
   "cell_type": "code",
   "execution_count": 16,
   "metadata": {},
   "outputs": [],
   "source": [
    "s = ['à', 'á', 'è', 'é', 'í', 'ñ', 'ó', 'ö', 'ü', 'ā', 'ī', 'ı', 'ō', 'ǝ', 'ɥ', 'ʇ', 'א', 'ב', 'ד', 'י', 'ל', 'מ', 'נ', 'ע', 'ר', 'ת', 'あ', 'い', 'え', 'お', 'か', 'が', 'き', 'ぎ', 'く', 'け', 'し', 'す', 'ず', 'せ', 'た', 'ち', 'っ', 'て', 'で', 'と', 'ど', 'な', 'に', 'ぬ', 'の', 'は', 'ぱ', 'び', 'べ', 'ま', 'む', 'も', 'ゃ', 'や', 'よ', 'ら', 'り', 'る', 'れ', 'わ', 'を', 'ザ', 'ピ', 'ム', 'ー', '上', '下', '古', '夏', '天', '好', '子', '山', '川', '広', '彼', '慮', '憂', '放', '方', '无', '日', '明', '春', '景', '月', '木', '村', '樹', '死', '気', '水', '江', '池', '浪', '海', '消', '涙', '涼', '漏', '無', '目', '真', '着', '空', '紅', '緑', '美', '者', '色', '花', '落', '葉', '蒼', '蛙', '見', '触', '込', '迷', '遠', '鏡', '降', '雨', '雪', '雷', '音', '飛', '食', '鬱', '鱗', '𝐴', '𝐷', '𝐿', '𝑁', '𝑇', '𝑎', '𝑐', '𝑑', '𝑒', '𝑓', '𝑔', '𝑖', '𝑙', '𝑛', '𝑜', '𝑟', '𝑠', '𝑡', '𝑢', '𝑤', '𝒶', '𝒷', '𝒸', '𝒹', '𝒻', '𝒽', '𝒾', '𝓀', '𝓁', '𝓂', '𝓃', '𝓅', '𝓇', '𝓈', '𝓉', '𝓊', '𝓋', '𝓌', '𝓎', '𝓏', '𝘈', '𝘏', '𝘕', '𝘞', '𝘢', '𝘣', '𝘤', '𝘥', '𝘦', '𝘨', '𝘩', '𝘪', '𝘯', '𝘰', '𝘳', '𝘴', '𝘵', '𝘺']\n",
    "filtered_corpus = [string for string in corpus if not any(symbol in string for symbol in s)]"
   ]
  },
  {
   "cell_type": "code",
   "execution_count": 18,
   "metadata": {},
   "outputs": [],
   "source": [
    "vocab = sorted(set(''.join(filtered_corpus)))"
   ]
  },
  {
   "cell_type": "code",
   "execution_count": 21,
   "metadata": {},
   "outputs": [],
   "source": [
    "char_to_index = {char: index for index, char in enumerate(vocab)}\n",
    "index_to_char = {index: char for index, char in enumerate(vocab)}"
   ]
  },
  {
   "cell_type": "code",
   "execution_count": 51,
   "metadata": {},
   "outputs": [],
   "source": [
    "# Generate input and target sequences\n",
    "input_sequences = []\n",
    "target_sequences = []\n",
    "for line in filtered_corpus[0:2000]:\n",
    "    for i in range(1, len(line)):\n",
    "        seq = line[:i]\n",
    "        input_sequences.append([char_to_index[ch] for ch in seq])\n",
    "        target_sequences.append(char_to_index[line[i]])\n",
    "\n",
    "input_sequences = tf.keras.preprocessing.sequence.pad_sequences(input_sequences, maxlen=50, padding='pre')\n",
    "target_sequences = np.array(target_sequences)\n",
    "\n",
    "# # Step 4: Create input and target sequences\n",
    "# input_sequences = padded_sequences[:, :-1]\n",
    "# target_sequences = padded_sequences[:, 1:]"
   ]
  },
  {
   "cell_type": "code",
   "execution_count": 52,
   "metadata": {},
   "outputs": [],
   "source": [
    "vocab_size = len(vocab)\n",
    "embedding_size = 16\n",
    "input_length = 50\n",
    "model = Sequential([\n",
    "    Embedding(input_dim=vocab_size, output_dim=embedding_size, input_length=input_length),\n",
    "    GRU(64),\n",
    "    Dense(64, activation='relu'),\n",
    "    Dense(64, activation='relu'),\n",
    "    Dense(vocab_size, activation='softmax')\n",
    "])"
   ]
  },
  {
   "cell_type": "code",
   "execution_count": 53,
   "metadata": {},
   "outputs": [],
   "source": [
    "optimizer = tf.keras.optimizers.Adam(learning_rate = 0.00001)\n",
    "model.compile(loss='sparse_categorical_crossentropy', optimizer=optimizer, metrics=['accuracy'])"
   ]
  },
  {
   "cell_type": "code",
   "execution_count": 54,
   "metadata": {},
   "outputs": [
    {
     "data": {
      "text/plain": [
       "array([[ 0,  0,  0, ...,  0,  0, 32],\n",
       "       [ 0,  0,  0, ...,  0, 32, 20],\n",
       "       [ 0,  0,  0, ..., 32, 20, 17],\n",
       "       ...,\n",
       "       [14, 24, 33, ..., 37,  0, 18],\n",
       "       [24, 33, 17, ...,  0, 18, 17],\n",
       "       [33, 17,  0, ..., 18, 17, 17]], dtype=int32)"
      ]
     },
     "execution_count": 54,
     "metadata": {},
     "output_type": "execute_result"
    }
   ],
   "source": [
    "input_sequences"
   ]
  },
  {
   "cell_type": "code",
   "execution_count": 55,
   "metadata": {},
   "outputs": [
    {
     "data": {
      "text/plain": [
       "(138270, 50)"
      ]
     },
     "execution_count": 55,
     "metadata": {},
     "output_type": "execute_result"
    }
   ],
   "source": [
    "input_sequences.shape"
   ]
  },
  {
   "cell_type": "code",
   "execution_count": 56,
   "metadata": {},
   "outputs": [
    {
     "data": {
      "text/plain": [
       "(138270,)"
      ]
     },
     "execution_count": 56,
     "metadata": {},
     "output_type": "execute_result"
    }
   ],
   "source": [
    "target_sequences.shape"
   ]
  },
  {
   "cell_type": "code",
   "execution_count": 57,
   "metadata": {},
   "outputs": [
    {
     "name": "stdout",
     "output_type": "stream",
     "text": [
      "Epoch 1/10\n",
      "1081/1081 [==============================] - 26s 22ms/step - loss: 3.5919 - accuracy: 0.1836\n",
      "Epoch 2/10\n",
      "1081/1081 [==============================] - 24s 22ms/step - loss: 3.0355 - accuracy: 0.1963\n",
      "Epoch 3/10\n",
      "1081/1081 [==============================] - 26s 24ms/step - loss: 2.9374 - accuracy: 0.1963\n",
      "Epoch 4/10\n",
      "1081/1081 [==============================] - 28s 26ms/step - loss: 2.9117 - accuracy: 0.1963\n",
      "Epoch 5/10\n",
      "1081/1081 [==============================] - 28s 26ms/step - loss: 2.8994 - accuracy: 0.1963\n",
      "Epoch 6/10\n",
      "1081/1081 [==============================] - 30s 28ms/step - loss: 2.8934 - accuracy: 0.1963\n",
      "Epoch 7/10\n",
      "1081/1081 [==============================] - 25s 23ms/step - loss: 2.8900 - accuracy: 0.1963\n",
      "Epoch 8/10\n",
      "1081/1081 [==============================] - 25s 23ms/step - loss: 2.8870 - accuracy: 0.1963\n",
      "Epoch 9/10\n",
      "1081/1081 [==============================] - 25s 23ms/step - loss: 2.8831 - accuracy: 0.1963\n",
      "Epoch 10/10\n",
      "1081/1081 [==============================] - 27s 25ms/step - loss: 2.8774 - accuracy: 0.1963\n"
     ]
    },
    {
     "data": {
      "text/plain": [
       "<keras.callbacks.History at 0x7f9d247c31f0>"
      ]
     },
     "execution_count": 57,
     "metadata": {},
     "output_type": "execute_result"
    }
   ],
   "source": [
    "model.fit(input_sequences, target_sequences, batch_size=128, epochs=10)"
   ]
  },
  {
   "cell_type": "code",
   "execution_count": 58,
   "metadata": {},
   "outputs": [],
   "source": [
    "def generate_haiku(seed_text, model, max_len, num_chars, char_to_idx, idx_to_char):\n",
    "    generated_text = seed_text\n",
    "    for i in range(max_len):\n",
    "        input_sequence = [char_to_idx[ch] for ch in generated_text]\n",
    "        input_sequence = pad_sequences([input_sequence], maxlen=max_len, padding='pre')\n",
    "        probs = model.predict(input_sequence)[0]\n",
    "        probs /= probs.sum() # Normalize probabilities to sum to 1\n",
    "        idx = np.random.choice(num_chars, p=probs)\n",
    "        char = idx_to_char[idx]\n",
    "        generated_text += char\n",
    "        if char == '\\n':\n",
    "            break\n",
    "    return generated_text"
   ]
  },
  {
   "cell_type": "code",
   "execution_count": 61,
   "metadata": {},
   "outputs": [
    {
     "name": "stdout",
     "output_type": "stream",
     "text": [
      "1/1 [==============================] - 1s 520ms/step\n",
      "1/1 [==============================] - 0s 40ms/step\n",
      "1/1 [==============================] - 0s 23ms/step\n",
      "1/1 [==============================] - 0s 25ms/step\n",
      "1/1 [==============================] - 0s 24ms/step\n",
      "1/1 [==============================] - 0s 25ms/step\n",
      "1/1 [==============================] - 0s 24ms/step\n",
      "1/1 [==============================] - 0s 24ms/step\n",
      "1/1 [==============================] - 0s 23ms/step\n",
      "1/1 [==============================] - 0s 22ms/step\n",
      "1/1 [==============================] - 0s 22ms/step\n",
      "1/1 [==============================] - 0s 22ms/step\n",
      "1/1 [==============================] - 0s 23ms/step\n",
      "1/1 [==============================] - 0s 23ms/step\n",
      "1/1 [==============================] - 0s 22ms/step\n",
      "1/1 [==============================] - 0s 22ms/step\n",
      "1/1 [==============================] - 0s 23ms/step\n",
      "1/1 [==============================] - 0s 41ms/step\n",
      "1/1 [==============================] - 0s 23ms/step\n",
      "1/1 [==============================] - 0s 24ms/step\n",
      "1/1 [==============================] - 0s 22ms/step\n",
      "1/1 [==============================] - 0s 22ms/step\n",
      "1/1 [==============================] - 0s 24ms/step\n",
      "1/1 [==============================] - 0s 23ms/step\n",
      "1/1 [==============================] - 0s 26ms/step\n",
      "1/1 [==============================] - 0s 23ms/step\n",
      "1/1 [==============================] - 0s 25ms/step\n",
      "1/1 [==============================] - 0s 24ms/step\n",
      "1/1 [==============================] - 0s 23ms/step\n",
      "1/1 [==============================] - 0s 22ms/step\n",
      "1/1 [==============================] - 0s 23ms/step\n",
      "1/1 [==============================] - 0s 24ms/step\n",
      "1/1 [==============================] - 0s 26ms/step\n",
      "1/1 [==============================] - 0s 25ms/step\n",
      "1/1 [==============================] - 0s 26ms/step\n",
      "1/1 [==============================] - 0s 24ms/step\n",
      "1/1 [==============================] - 0s 24ms/step\n",
      "1/1 [==============================] - 0s 22ms/step\n",
      "1/1 [==============================] - 0s 24ms/step\n",
      "1/1 [==============================] - 0s 25ms/step\n",
      "1/1 [==============================] - 0s 24ms/step\n",
      "1/1 [==============================] - 0s 27ms/step\n",
      "1/1 [==============================] - 0s 27ms/step\n",
      "1/1 [==============================] - 0s 28ms/step\n",
      "1/1 [==============================] - 0s 28ms/step\n",
      "1/1 [==============================] - 0s 25ms/step\n",
      "1/1 [==============================] - 0s 24ms/step\n",
      "1/1 [==============================] - 0s 24ms/step\n",
      "1/1 [==============================] - 0s 24ms/step\n",
      "1/1 [==============================] - 0s 25ms/step\n"
     ]
    },
    {
     "data": {
      "text/plain": [
       "'a spring day dddyn rfeoi ekiwhcuh  tcek/wgun  infriektook fuei'"
      ]
     },
     "execution_count": 61,
     "metadata": {},
     "output_type": "execute_result"
    }
   ],
   "source": [
    "generate_haiku(\"a spring day\", model, 50, vocab_size, char_to_index, index_to_char)"
   ]
  },
  {
   "cell_type": "code",
   "execution_count": null,
   "metadata": {},
   "outputs": [],
   "source": []
  }
 ],
 "metadata": {
  "kernelspec": {
   "display_name": "csci1470",
   "language": "python",
   "name": "python3"
  },
  "language_info": {
   "codemirror_mode": {
    "name": "ipython",
    "version": 3
   },
   "file_extension": ".py",
   "mimetype": "text/x-python",
   "name": "python",
   "nbconvert_exporter": "python",
   "pygments_lexer": "ipython3",
   "version": "3.10.9"
  },
  "orig_nbformat": 4
 },
 "nbformat": 4,
 "nbformat_minor": 2
}
