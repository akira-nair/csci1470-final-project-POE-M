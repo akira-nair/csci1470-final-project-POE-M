{
 "cells": [
  {
   "cell_type": "code",
   "execution_count": null,
   "metadata": {},
   "outputs": [],
   "source": [
    "import tensorflow as tf\n",
    "import pandas as pd\n",
    "import numpy as np\n",
    "import re\n",
    "from tensorflow.keras.preprocessing.sequence import pad_sequences"
   ]
  },
  {
   "cell_type": "code",
   "execution_count": null,
   "metadata": {},
   "outputs": [],
   "source": [
    "def tokenize(sentence: str):\n",
    "    tokens = sentence.lower().split()\n",
    "    tokens = [process_token(t) for t in tokens]\n",
    "    return tokens\n",
    "\n",
    "def process_token(token: str):\n",
    "    if token.strip() == \"/\":\n",
    "        return token\n",
    "    return re.sub(r'[^\\w\\s]', '', token.strip())\n",
    "\n",
    "def vectorize(tokens):\n",
    "    vocab, index = {}, 1\n",
    "    vocab['<pad>'] = 0\n",
    "    for token in tokens:\n",
    "        token = token.strip()\n",
    "        if token not in vocab:\n",
    "            vocab[token] = index\n",
    "            index += 1\n",
    "    return vocab\n",
    "\n",
    "def find_max_length(vectorized_poems):\n",
    "    max_length = 0\n",
    "    for poem in vectorized_poems:\n",
    "        max_length = max(max_length, len(poem))   \n",
    "    return max_length"
   ]
  },
  {
   "cell_type": "code",
   "execution_count": null,
   "metadata": {},
   "outputs": [],
   "source": [
    "all_text = \" \".join(data[\"processed_title\"].to_list())\n",
    "tokens = tokenize(all_text)\n",
    "vocab_map = vectorize(tokens)"
   ]
  },
  {
   "cell_type": "code",
   "execution_count": 73,
   "metadata": {},
   "outputs": [],
   "source": [
    "x = haikus[:, :19-1]  # input consists of all words except the last\n",
    "y = haikus[:, 1:]"
   ]
  },
  {
   "cell_type": "code",
   "execution_count": 74,
   "metadata": {},
   "outputs": [],
   "source": [
    "from sklearn.model_selection import train_test_split\n",
    "x_train, x_test, y_train, y_test = train_test_split(x, y)"
   ]
  },
  {
   "cell_type": "code",
   "execution_count": 75,
   "metadata": {},
   "outputs": [],
   "source": [
    "# training_examples = []\n",
    "# window_size = 4\n",
    "# for haiku in haikus:\n",
    "#     for i in range(len(haiku) - window_size + 1):\n",
    "#         input_words = haiku[i:i+window_size-1]\n",
    "#         output_word = haiku[i+window_size-1]\n",
    "#         training_examples.append((input_words, output_word))\n",
    "# training_examples[:20]"
   ]
  },
  {
   "attachments": {},
   "cell_type": "markdown",
   "metadata": {},
   "source": [
    "## Transformer"
   ]
  },
  {
   "cell_type": "code",
   "execution_count": 76,
   "metadata": {},
   "outputs": [],
   "source": [
    "import tensorflow as tf\n",
    "from tensorflow import keras\n",
    "from keras.layers import Input, Embedding, Dense, Dropout, LayerNormalization\n",
    "from keras.layers import MultiHeadAttention, TimeDistributed, Add, Concatenate\n",
    "from keras.models import Model"
   ]
  },
  {
   "cell_type": "code",
   "execution_count": 77,
   "metadata": {},
   "outputs": [],
   "source": [
    "# Encoder\n",
    "encoder_inputs = Input(shape=(16,), name='encoder_inputs')\n",
    "embedding_dim = 32\n",
    "hidden_dim = 256\n",
    "x = Embedding(len(vocab_map)+1, embedding_dim)(encoder_inputs)\n",
    "# Self-attention layer\n",
    "attn_output = MultiHeadAttention(num_heads=4, key_dim=embedding_dim)(x, x)\n",
    "x = Add()([x, attn_output])\n",
    "x = LayerNormalization(epsilon=1e-6)(x)\n",
    "# Feed-forward layer\n",
    "ff_output = TimeDistributed(Dense(hidden_dim, activation='relu'))(x)\n",
    "ff_output = TimeDistributed(Dense(embedding_dim))(ff_output)\n",
    "x = Add()([x, ff_output])\n",
    "encoder_outputs = LayerNormalization(epsilon=1e-6)(x)\n",
    "# -----\n",
    "# Decoder\n",
    "decoder_inputs = Input(shape=(15,), name='decoder_inputs')\n",
    "x = Embedding(len(vocab_map)+1, embedding_dim)(decoder_inputs)\n",
    "# Self-attention layer\n",
    "attn_output1 = MultiHeadAttention(num_heads=4, key_dim=embedding_dim)(x, x)\n",
    "x = Add()([x, attn_output1])\n",
    "x = LayerNormalization(epsilon=1e-6)(x)\n",
    "# Encoder-decoder attention layer\n",
    "attn_output2 = MultiHeadAttention(num_heads=4, key_dim=embedding_dim)(x, encoder_outputs)\n",
    "x = Add()([x, attn_output2])\n",
    "x = LayerNormalization(epsilon=1e-6)(x)\n",
    "decoder_outputs = TimeDistributed(Dense(len(vocab_map)+1, activation='softmax'))(x)"
   ]
  },
  {
   "cell_type": "code",
   "execution_count": 78,
   "metadata": {},
   "outputs": [],
   "source": [
    "# Define the model\n",
    "model = Model(inputs=[encoder_inputs, decoder_inputs], outputs=decoder_outputs)"
   ]
  },
  {
   "cell_type": "code",
   "execution_count": 79,
   "metadata": {},
   "outputs": [],
   "source": [
    "x = haikus[:, :-3]\n",
    "y = haikus[:, 3:]"
   ]
  },
  {
   "cell_type": "code",
   "execution_count": 80,
   "metadata": {},
   "outputs": [],
   "source": [
    "x_train, x_test, y_train, y_test = train_test_split(x, y, test_size=0.2, random_state=42)"
   ]
  },
  {
   "cell_type": "code",
   "execution_count": 81,
   "metadata": {},
   "outputs": [],
   "source": [
    "model.compile(optimizer='adam', loss='sparse_categorical_crossentropy')"
   ]
  },
  {
   "cell_type": "code",
   "execution_count": 107,
   "metadata": {},
   "outputs": [
    {
     "name": "stdout",
     "output_type": "stream",
     "text": [
      "Epoch 1/5\n",
      "48/48 [==============================] - 47s 974ms/step - loss: 6.7841\n",
      "Epoch 2/5\n",
      "48/48 [==============================] - 47s 986ms/step - loss: 5.5397\n",
      "Epoch 3/5\n",
      "48/48 [==============================] - 47s 983ms/step - loss: 5.0182\n",
      "Epoch 4/5\n",
      "48/48 [==============================] - 47s 984ms/step - loss: 4.7290\n",
      "Epoch 5/5\n",
      "48/48 [==============================] - 47s 989ms/step - loss: 4.4760\n"
     ]
    },
    {
     "data": {
      "text/plain": [
       "<keras.callbacks.History at 0x7f8ddb14ef50>"
      ]
     },
     "execution_count": 107,
     "metadata": {},
     "output_type": "execute_result"
    }
   ],
   "source": [
    "model.fit(x=[x_train, y_train[:, :-1]], y=y_train[:, 1:], batch_size=256, epochs=5)"
   ]
  },
  {
   "cell_type": "markdown",
   "metadata": {},
   "source": []
  },
  {
   "cell_type": "code",
   "execution_count": 84,
   "metadata": {},
   "outputs": [],
   "source": [
    "vocab_map_inv = dict([(value, key) for key, value in vocab_map.items()])"
   ]
  },
  {
   "cell_type": "code",
   "execution_count": 105,
   "metadata": {},
   "outputs": [],
   "source": [
    "def generate_poem(input_words: list):\n",
    "    window_size = 3\n",
    "    while len(input_words) < window_size - 1:\n",
    "        input_words.insert(0, \"<pad>\")\n",
    "    vectorized_input = [vocab_map[word] for word in input_words]\n",
    "    print(f\"User specified words {input_words} which were vectorized as {vectorized_input}\")\n",
    "    output_poem = input_words\n",
    "    \n",
    "    for i in range(13):\n",
    "        print(i)\n",
    "        input = np.array([np.pad(vectorized_input, (0, 16 - len(vectorized_input)), constant_values=len(vocab_map))])\n",
    "        prediction = model.predict([input, np.zeros((1, 15))], verbose = 0)\n",
    "        new_word_vector = np.argmax(prediction[0, i])\n",
    "        vectorized_input.append(new_word_vector)\n",
    "        new_word = vocab_map_inv[new_word_vector]\n",
    "        output_poem.append(new_word)\n",
    "    output = \" \".join(output_poem)\n",
    "    print(f\"OUTPUT POEM: {output}\")"
   ]
  },
  {
   "cell_type": "code",
   "execution_count": 106,
   "metadata": {},
   "outputs": [
    {
     "name": "stdout",
     "output_type": "stream",
     "text": [
      "User specified words ['hello', 'i', 'am'] which were vectorized as [220, 9, 153]\n",
      "0\n",
      "1\n",
      "2\n",
      "3\n",
      "4\n",
      "5\n",
      "6\n",
      "7\n",
      "8\n",
      "9\n",
      "10\n",
      "11\n",
      "12\n",
      "OUTPUT POEM: hello i am <pad> <pad> <pad> <pad> <pad> <pad> <pad> <pad> <pad> <pad> <pad> <pad> <pad>\n"
     ]
    }
   ],
   "source": [
    "generate_poem([\"hello\", \"i\", \"am\"])"
   ]
  },
  {
   "cell_type": "code",
   "execution_count": null,
   "metadata": {},
   "outputs": [],
   "source": []
  }
 ],
 "metadata": {
  "kernelspec": {
   "display_name": "csci1470",
   "language": "python",
   "name": "python3"
  },
  "language_info": {
   "codemirror_mode": {
    "name": "ipython",
    "version": 3
   },
   "file_extension": ".py",
   "mimetype": "text/x-python",
   "name": "python",
   "nbconvert_exporter": "python",
   "pygments_lexer": "ipython3",
   "version": "3.10.9"
  },
  "orig_nbformat": 4
 },
 "nbformat": 4,
 "nbformat_minor": 2
}
