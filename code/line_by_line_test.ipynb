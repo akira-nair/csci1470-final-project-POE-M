{
 "cells": [
  {
   "cell_type": "code",
   "execution_count": 29,
   "metadata": {},
   "outputs": [
    {
     "data": {
      "text/plain": [
       "<module 'train_model_line_by_line' from '/Users/christinejeong/Desktop/cs1470/csci1470-final-project-POE-M/code/train_model_line_by_line.py'>"
      ]
     },
     "execution_count": 29,
     "metadata": {},
     "output_type": "execute_result"
    }
   ],
   "source": [
    "import train_model_line_by_line as t\n",
    "import importlib as imp\n",
    "imp.reload(t)"
   ]
  },
  {
   "cell_type": "code",
   "execution_count": null,
   "metadata": {},
   "outputs": [],
   "source": [
    "corpus, data = t.get_corpus()\n",
    "x1, y1 = t.process_line1(corpus, data)\n",
    "x2, y2 = t.process_line2(corpus, data)\n",
    "x3, y3 = t.process_line3(corpus, data)"
   ]
  },
  {
   "cell_type": "code",
   "execution_count": 24,
   "metadata": {},
   "outputs": [
    {
     "name": "stderr",
     "output_type": "stream",
     "text": [
      "2023-05-01 21:23:36.915828: I tensorflow/core/platform/cpu_feature_guard.cc:193] This TensorFlow binary is optimized with oneAPI Deep Neural Network Library (oneDNN) to use the following CPU instructions in performance-critical operations:  AVX2 FMA\n",
      "To enable them in other operations, rebuild TensorFlow with the appropriate compiler flags.\n"
     ]
    },
    {
     "name": "stdout",
     "output_type": "stream",
     "text": [
      "Epoch 1/50\n",
      "161/161 [==============================] - 18s 78ms/step - loss: 8.1367 - accuracy: 0.0302\n",
      "Epoch 2/50\n",
      "161/161 [==============================] - 13s 79ms/step - loss: 7.2186 - accuracy: 0.0354\n",
      "Epoch 3/50\n",
      "161/161 [==============================] - 12s 76ms/step - loss: 7.1295 - accuracy: 0.0354\n",
      "Epoch 4/50\n",
      "161/161 [==============================] - 12s 77ms/step - loss: 7.0710 - accuracy: 0.0354\n",
      "Epoch 5/50\n",
      "161/161 [==============================] - 12s 75ms/step - loss: 7.0074 - accuracy: 0.0381\n",
      "Epoch 6/50\n",
      "161/161 [==============================] - 13s 78ms/step - loss: 6.8807 - accuracy: 0.0440\n",
      "Epoch 7/50\n",
      "161/161 [==============================] - 12s 77ms/step - loss: 6.6953 - accuracy: 0.0540\n",
      "Epoch 8/50\n",
      "161/161 [==============================] - 13s 81ms/step - loss: 6.4850 - accuracy: 0.0654\n",
      "Epoch 9/50\n",
      "161/161 [==============================] - 14s 89ms/step - loss: 6.2949 - accuracy: 0.0717\n",
      "Epoch 10/50\n",
      "161/161 [==============================] - 14s 87ms/step - loss: 6.1349 - accuracy: 0.0797\n",
      "Epoch 11/50\n",
      "161/161 [==============================] - 14s 86ms/step - loss: 5.9894 - accuracy: 0.0883\n",
      "Epoch 12/50\n",
      "161/161 [==============================] - 12s 78ms/step - loss: 5.8537 - accuracy: 0.0960\n",
      "Epoch 13/50\n",
      "161/161 [==============================] - 13s 81ms/step - loss: 5.7308 - accuracy: 0.1042\n",
      "Epoch 14/50\n",
      "161/161 [==============================] - 12s 73ms/step - loss: 5.6149 - accuracy: 0.1093\n",
      "Epoch 15/50\n",
      "161/161 [==============================] - 12s 72ms/step - loss: 5.5032 - accuracy: 0.1161\n",
      "Epoch 16/50\n",
      "161/161 [==============================] - 12s 71ms/step - loss: 5.3968 - accuracy: 0.1213\n",
      "Epoch 17/50\n",
      "161/161 [==============================] - 12s 74ms/step - loss: 5.2893 - accuracy: 0.1278\n",
      "Epoch 18/50\n",
      "161/161 [==============================] - 11s 71ms/step - loss: 5.1828 - accuracy: 0.1341\n",
      "Epoch 19/50\n",
      "161/161 [==============================] - 12s 72ms/step - loss: 5.0756 - accuracy: 0.1394\n",
      "Epoch 20/50\n",
      "161/161 [==============================] - 11s 71ms/step - loss: 4.9694 - accuracy: 0.1456\n",
      "Epoch 21/50\n",
      "161/161 [==============================] - 12s 77ms/step - loss: 4.8635 - accuracy: 0.1529\n",
      "Epoch 22/50\n",
      "161/161 [==============================] - 13s 79ms/step - loss: 4.7573 - accuracy: 0.1622\n",
      "Epoch 23/50\n",
      "161/161 [==============================] - 13s 81ms/step - loss: 4.6542 - accuracy: 0.1686\n",
      "Epoch 24/50\n",
      "161/161 [==============================] - 13s 83ms/step - loss: 4.5484 - accuracy: 0.1785\n",
      "Epoch 25/50\n",
      "161/161 [==============================] - 14s 88ms/step - loss: 4.4467 - accuracy: 0.1876\n",
      "Epoch 26/50\n",
      "161/161 [==============================] - 13s 79ms/step - loss: 4.3427 - accuracy: 0.1980\n",
      "Epoch 27/50\n",
      "161/161 [==============================] - 13s 83ms/step - loss: 4.2448 - accuracy: 0.2067\n",
      "Epoch 28/50\n",
      "161/161 [==============================] - 13s 79ms/step - loss: 4.1480 - accuracy: 0.2171\n",
      "Epoch 29/50\n",
      "161/161 [==============================] - 12s 77ms/step - loss: 4.0527 - accuracy: 0.2319\n",
      "Epoch 30/50\n",
      "161/161 [==============================] - 12s 76ms/step - loss: 3.9614 - accuracy: 0.2420\n",
      "Epoch 31/50\n",
      "161/161 [==============================] - 13s 78ms/step - loss: 3.8721 - accuracy: 0.2560\n",
      "Epoch 32/50\n",
      "161/161 [==============================] - 13s 81ms/step - loss: 3.7877 - accuracy: 0.2669\n",
      "Epoch 33/50\n",
      "161/161 [==============================] - 13s 78ms/step - loss: 3.7079 - accuracy: 0.2790\n",
      "Epoch 34/50\n",
      "161/161 [==============================] - 13s 78ms/step - loss: 3.6276 - accuracy: 0.2936\n",
      "Epoch 35/50\n",
      "161/161 [==============================] - 12s 76ms/step - loss: 3.5578 - accuracy: 0.3027\n",
      "Epoch 36/50\n",
      "161/161 [==============================] - 13s 78ms/step - loss: 3.4850 - accuracy: 0.3137\n",
      "Epoch 37/50\n",
      "161/161 [==============================] - 13s 79ms/step - loss: 3.4209 - accuracy: 0.3237\n",
      "Epoch 38/50\n",
      "161/161 [==============================] - 13s 81ms/step - loss: 3.3559 - accuracy: 0.3335\n",
      "Epoch 39/50\n",
      "161/161 [==============================] - 14s 88ms/step - loss: 3.2987 - accuracy: 0.3411\n",
      "Epoch 40/50\n",
      "161/161 [==============================] - 15s 92ms/step - loss: 3.2418 - accuracy: 0.3495\n",
      "Epoch 41/50\n",
      "161/161 [==============================] - 14s 90ms/step - loss: 3.1895 - accuracy: 0.3562\n",
      "Epoch 42/50\n",
      "161/161 [==============================] - 14s 85ms/step - loss: 3.1372 - accuracy: 0.3660\n",
      "Epoch 43/50\n",
      "161/161 [==============================] - 13s 79ms/step - loss: 3.0912 - accuracy: 0.3721\n",
      "Epoch 44/50\n",
      "161/161 [==============================] - 13s 82ms/step - loss: 3.0472 - accuracy: 0.3782\n",
      "Epoch 45/50\n",
      "161/161 [==============================] - 13s 80ms/step - loss: 3.0025 - accuracy: 0.3846\n",
      "Epoch 46/50\n",
      "161/161 [==============================] - 13s 79ms/step - loss: 2.9615 - accuracy: 0.3913\n",
      "Epoch 47/50\n",
      "161/161 [==============================] - 13s 79ms/step - loss: 2.9220 - accuracy: 0.3980\n",
      "Epoch 48/50\n",
      "161/161 [==============================] - 13s 81ms/step - loss: 2.8833 - accuracy: 0.4026\n",
      "Epoch 49/50\n",
      "161/161 [==============================] - 13s 81ms/step - loss: 2.8465 - accuracy: 0.4071\n",
      "Epoch 50/50\n",
      "161/161 [==============================] - 13s 80ms/step - loss: 2.8164 - accuracy: 0.4113\n"
     ]
    },
    {
     "name": "stderr",
     "output_type": "stream",
     "text": [
      "WARNING:absl:Found untraced functions such as _update_step_xla, lstm_cell_1_layer_call_fn, lstm_cell_1_layer_call_and_return_conditional_losses, lstm_cell_2_layer_call_fn, lstm_cell_2_layer_call_and_return_conditional_losses while saving (showing 5 of 5). These functions will not be directly callable after loading.\n"
     ]
    },
    {
     "name": "stdout",
     "output_type": "stream",
     "text": [
      "INFO:tensorflow:Assets written to: models/lstm/assets\n"
     ]
    },
    {
     "name": "stderr",
     "output_type": "stream",
     "text": [
      "INFO:tensorflow:Assets written to: models/lstm/assets\n"
     ]
    },
    {
     "name": "stdout",
     "output_type": "stream",
     "text": [
      "Epoch 1/50\n",
      "302/302 [==============================] - 30s 82ms/step - loss: 7.6866 - accuracy: 0.0410\n",
      "Epoch 2/50\n",
      "302/302 [==============================] - 23s 77ms/step - loss: 7.0984 - accuracy: 0.0445\n",
      "Epoch 3/50\n",
      "302/302 [==============================] - 23s 78ms/step - loss: 6.9888 - accuracy: 0.0448\n",
      "Epoch 4/50\n",
      "302/302 [==============================] - 24s 78ms/step - loss: 6.8188 - accuracy: 0.0480\n",
      "Epoch 5/50\n",
      "302/302 [==============================] - 24s 79ms/step - loss: 6.6298 - accuracy: 0.0569\n",
      "Epoch 6/50\n",
      "302/302 [==============================] - 26s 87ms/step - loss: 6.4539 - accuracy: 0.0645\n",
      "Epoch 7/50\n",
      "302/302 [==============================] - 26s 85ms/step - loss: 6.2723 - accuracy: 0.0744\n",
      "Epoch 8/50\n",
      "302/302 [==============================] - 24s 80ms/step - loss: 6.0978 - accuracy: 0.0835\n",
      "Epoch 9/50\n",
      "302/302 [==============================] - 25s 82ms/step - loss: 5.9391 - accuracy: 0.0910\n",
      "Epoch 10/50\n",
      "302/302 [==============================] - 25s 83ms/step - loss: 5.7950 - accuracy: 0.0973\n",
      "Epoch 11/50\n",
      "302/302 [==============================] - 26s 85ms/step - loss: 5.6658 - accuracy: 0.1032\n",
      "Epoch 12/50\n",
      "302/302 [==============================] - 25s 83ms/step - loss: 5.5452 - accuracy: 0.1070\n",
      "Epoch 13/50\n",
      "302/302 [==============================] - 25s 82ms/step - loss: 5.4290 - accuracy: 0.1125\n",
      "Epoch 14/50\n",
      "302/302 [==============================] - 25s 84ms/step - loss: 5.3170 - accuracy: 0.1179\n",
      "Epoch 15/50\n",
      "302/302 [==============================] - 26s 87ms/step - loss: 5.2000 - accuracy: 0.1230\n",
      "Epoch 16/50\n",
      "302/302 [==============================] - 25s 83ms/step - loss: 5.0828 - accuracy: 0.1298\n",
      "Epoch 17/50\n",
      "302/302 [==============================] - 25s 82ms/step - loss: 4.9668 - accuracy: 0.1380\n",
      "Epoch 18/50\n",
      "302/302 [==============================] - 26s 86ms/step - loss: 4.8469 - accuracy: 0.1457\n",
      "Epoch 19/50\n",
      "302/302 [==============================] - 28s 93ms/step - loss: 4.7253 - accuracy: 0.1557\n",
      "Epoch 20/50\n",
      "302/302 [==============================] - 26s 87ms/step - loss: 4.6057 - accuracy: 0.1655\n",
      "Epoch 21/50\n",
      "302/302 [==============================] - 27s 88ms/step - loss: 4.4831 - accuracy: 0.1771\n",
      "Epoch 22/50\n",
      "302/302 [==============================] - 29s 95ms/step - loss: 4.3639 - accuracy: 0.1907\n",
      "Epoch 23/50\n",
      "302/302 [==============================] - 29s 98ms/step - loss: 4.2480 - accuracy: 0.2040\n",
      "Epoch 24/50\n",
      "302/302 [==============================] - 28s 94ms/step - loss: 4.1364 - accuracy: 0.2194\n",
      "Epoch 25/50\n",
      "302/302 [==============================] - 28s 94ms/step - loss: 4.0279 - accuracy: 0.2337\n",
      "Epoch 26/50\n",
      "302/302 [==============================] - 30s 98ms/step - loss: 3.9202 - accuracy: 0.2495\n",
      "Epoch 27/50\n",
      "302/302 [==============================] - 29s 95ms/step - loss: 3.8229 - accuracy: 0.2630\n",
      "Epoch 28/50\n",
      "302/302 [==============================] - 26s 86ms/step - loss: 3.7232 - accuracy: 0.2781\n",
      "Epoch 29/50\n",
      "302/302 [==============================] - 25s 84ms/step - loss: 3.6359 - accuracy: 0.2893\n",
      "Epoch 30/50\n",
      "302/302 [==============================] - 26s 86ms/step - loss: 3.5533 - accuracy: 0.3041\n",
      "Epoch 31/50\n",
      "302/302 [==============================] - 26s 85ms/step - loss: 3.4701 - accuracy: 0.3143\n",
      "Epoch 32/50\n",
      "302/302 [==============================] - 25s 84ms/step - loss: 3.3944 - accuracy: 0.3275\n",
      "Epoch 33/50\n",
      "302/302 [==============================] - 26s 85ms/step - loss: 3.3200 - accuracy: 0.3384\n",
      "Epoch 34/50\n",
      "302/302 [==============================] - 25s 84ms/step - loss: 3.2517 - accuracy: 0.3481\n",
      "Epoch 35/50\n",
      "302/302 [==============================] - 26s 85ms/step - loss: 3.1875 - accuracy: 0.3581\n",
      "Epoch 36/50\n",
      "302/302 [==============================] - 26s 86ms/step - loss: 3.1253 - accuracy: 0.3690\n",
      "Epoch 37/50\n",
      "302/302 [==============================] - 26s 86ms/step - loss: 3.0657 - accuracy: 0.3783\n",
      "Epoch 38/50\n",
      "302/302 [==============================] - 29s 95ms/step - loss: 3.0047 - accuracy: 0.3876\n",
      "Epoch 39/50\n",
      "302/302 [==============================] - 28s 94ms/step - loss: 2.9522 - accuracy: 0.3944\n",
      "Epoch 40/50\n",
      "302/302 [==============================] - 29s 97ms/step - loss: 2.9018 - accuracy: 0.4039\n",
      "Epoch 41/50\n",
      "302/302 [==============================] - 28s 93ms/step - loss: 2.8525 - accuracy: 0.4123\n",
      "Epoch 42/50\n",
      "302/302 [==============================] - 28s 91ms/step - loss: 2.8010 - accuracy: 0.4211\n",
      "Epoch 43/50\n",
      "302/302 [==============================] - 29s 96ms/step - loss: 2.7541 - accuracy: 0.4293\n",
      "Epoch 44/50\n",
      "302/302 [==============================] - 29s 95ms/step - loss: 2.7117 - accuracy: 0.4356\n",
      "Epoch 45/50\n",
      "302/302 [==============================] - 27s 90ms/step - loss: 2.6652 - accuracy: 0.4431\n",
      "Epoch 46/50\n",
      "302/302 [==============================] - 26s 86ms/step - loss: 2.6275 - accuracy: 0.4507\n",
      "Epoch 47/50\n",
      "302/302 [==============================] - 26s 87ms/step - loss: 2.5842 - accuracy: 0.4573\n",
      "Epoch 48/50\n",
      "302/302 [==============================] - 28s 93ms/step - loss: 2.5483 - accuracy: 0.4640\n",
      "Epoch 49/50\n",
      "302/302 [==============================] - 28s 92ms/step - loss: 2.5070 - accuracy: 0.4704\n",
      "Epoch 50/50\n",
      "302/302 [==============================] - 28s 92ms/step - loss: 2.4707 - accuracy: 0.4765\n"
     ]
    },
    {
     "name": "stderr",
     "output_type": "stream",
     "text": [
      "WARNING:absl:Found untraced functions such as _update_step_xla, lstm_cell_1_layer_call_fn, lstm_cell_1_layer_call_and_return_conditional_losses, lstm_cell_2_layer_call_fn, lstm_cell_2_layer_call_and_return_conditional_losses while saving (showing 5 of 5). These functions will not be directly callable after loading.\n"
     ]
    },
    {
     "name": "stdout",
     "output_type": "stream",
     "text": [
      "INFO:tensorflow:Assets written to: models/lstm/assets\n"
     ]
    },
    {
     "name": "stderr",
     "output_type": "stream",
     "text": [
      "INFO:tensorflow:Assets written to: models/lstm/assets\n"
     ]
    },
    {
     "name": "stdout",
     "output_type": "stream",
     "text": [
      "Epoch 1/50\n",
      "228/228 [==============================] - 22s 80ms/step - loss: 7.7728 - accuracy: 0.0301\n",
      "Epoch 2/50\n",
      "228/228 [==============================] - 19s 83ms/step - loss: 7.0608 - accuracy: 0.0355\n",
      "Epoch 3/50\n",
      "228/228 [==============================] - 19s 83ms/step - loss: 6.9681 - accuracy: 0.0356\n",
      "Epoch 4/50\n",
      "228/228 [==============================] - 19s 83ms/step - loss: 6.8396 - accuracy: 0.0383\n",
      "Epoch 5/50\n",
      "228/228 [==============================] - 20s 88ms/step - loss: 6.6430 - accuracy: 0.0468\n",
      "Epoch 6/50\n",
      "228/228 [==============================] - 21s 92ms/step - loss: 6.4713 - accuracy: 0.0519\n",
      "Epoch 7/50\n",
      "228/228 [==============================] - 20s 90ms/step - loss: 6.3297 - accuracy: 0.0582\n",
      "Epoch 8/50\n",
      "228/228 [==============================] - 20s 87ms/step - loss: 6.1894 - accuracy: 0.0647\n",
      "Epoch 9/50\n",
      "228/228 [==============================] - 20s 88ms/step - loss: 6.0442 - accuracy: 0.0721\n",
      "Epoch 10/50\n",
      "228/228 [==============================] - 20s 87ms/step - loss: 5.9050 - accuracy: 0.0782\n",
      "Epoch 11/50\n",
      "228/228 [==============================] - 20s 89ms/step - loss: 5.7646 - accuracy: 0.0848\n",
      "Epoch 12/50\n",
      "228/228 [==============================] - 20s 90ms/step - loss: 5.6181 - accuracy: 0.0895\n",
      "Epoch 13/50\n",
      "228/228 [==============================] - 20s 88ms/step - loss: 5.4673 - accuracy: 0.0956\n",
      "Epoch 14/50\n",
      "228/228 [==============================] - 20s 87ms/step - loss: 5.3167 - accuracy: 0.1026\n",
      "Epoch 15/50\n",
      "228/228 [==============================] - 20s 87ms/step - loss: 5.1644 - accuracy: 0.1110\n",
      "Epoch 16/50\n",
      "228/228 [==============================] - 21s 91ms/step - loss: 5.0159 - accuracy: 0.1187\n",
      "Epoch 17/50\n",
      "228/228 [==============================] - 20s 88ms/step - loss: 4.8692 - accuracy: 0.1287\n",
      "Epoch 18/50\n",
      "228/228 [==============================] - 20s 86ms/step - loss: 4.7251 - accuracy: 0.1407\n",
      "Epoch 19/50\n",
      "228/228 [==============================] - 20s 88ms/step - loss: 4.5834 - accuracy: 0.1527\n",
      "Epoch 20/50\n",
      "228/228 [==============================] - 21s 90ms/step - loss: 4.4425 - accuracy: 0.1655\n",
      "Epoch 21/50\n",
      "228/228 [==============================] - 20s 89ms/step - loss: 4.3115 - accuracy: 0.1797\n",
      "Epoch 22/50\n",
      "228/228 [==============================] - 20s 88ms/step - loss: 4.1794 - accuracy: 0.1948\n",
      "Epoch 23/50\n",
      "228/228 [==============================] - 20s 87ms/step - loss: 4.0520 - accuracy: 0.2137\n",
      "Epoch 24/50\n",
      "228/228 [==============================] - 21s 92ms/step - loss: 3.9275 - accuracy: 0.2291\n",
      "Epoch 25/50\n",
      "228/228 [==============================] - 20s 88ms/step - loss: 3.8041 - accuracy: 0.2491\n",
      "Epoch 26/50\n",
      "228/228 [==============================] - 21s 92ms/step - loss: 3.6891 - accuracy: 0.2647\n",
      "Epoch 27/50\n",
      "228/228 [==============================] - 21s 90ms/step - loss: 3.5785 - accuracy: 0.2831\n",
      "Epoch 28/50\n",
      "228/228 [==============================] - 20s 88ms/step - loss: 3.4735 - accuracy: 0.2977\n",
      "Epoch 29/50\n",
      "228/228 [==============================] - 20s 88ms/step - loss: 3.3732 - accuracy: 0.3133\n",
      "Epoch 30/50\n",
      "228/228 [==============================] - 20s 90ms/step - loss: 3.2708 - accuracy: 0.3296\n",
      "Epoch 31/50\n",
      "228/228 [==============================] - 21s 90ms/step - loss: 3.1784 - accuracy: 0.3432\n",
      "Epoch 32/50\n",
      "228/228 [==============================] - 20s 89ms/step - loss: 3.0934 - accuracy: 0.3558\n",
      "Epoch 33/50\n",
      "228/228 [==============================] - 21s 90ms/step - loss: 3.0083 - accuracy: 0.3683\n",
      "Epoch 34/50\n",
      "228/228 [==============================] - 20s 87ms/step - loss: 2.9304 - accuracy: 0.3817\n",
      "Epoch 35/50\n",
      "228/228 [==============================] - 20s 89ms/step - loss: 2.8572 - accuracy: 0.3945\n",
      "Epoch 36/50\n",
      "228/228 [==============================] - 20s 89ms/step - loss: 2.7852 - accuracy: 0.4048\n",
      "Epoch 37/50\n",
      "228/228 [==============================] - 20s 89ms/step - loss: 2.7139 - accuracy: 0.4174\n",
      "Epoch 38/50\n",
      "228/228 [==============================] - 20s 90ms/step - loss: 2.6490 - accuracy: 0.4281\n",
      "Epoch 39/50\n",
      "228/228 [==============================] - 21s 91ms/step - loss: 2.5849 - accuracy: 0.4396\n",
      "Epoch 40/50\n",
      "228/228 [==============================] - 20s 89ms/step - loss: 2.5279 - accuracy: 0.4510\n",
      "Epoch 41/50\n",
      "228/228 [==============================] - 20s 87ms/step - loss: 2.4633 - accuracy: 0.4612\n",
      "Epoch 42/50\n",
      "228/228 [==============================] - 20s 88ms/step - loss: 2.4095 - accuracy: 0.4699\n",
      "Epoch 43/50\n",
      "228/228 [==============================] - 20s 90ms/step - loss: 2.3573 - accuracy: 0.4817\n",
      "Epoch 44/50\n",
      "228/228 [==============================] - 20s 90ms/step - loss: 2.3041 - accuracy: 0.4899\n",
      "Epoch 45/50\n",
      "228/228 [==============================] - 21s 92ms/step - loss: 2.2557 - accuracy: 0.4982\n",
      "Epoch 46/50\n",
      "228/228 [==============================] - 19s 82ms/step - loss: 2.2094 - accuracy: 0.5088\n",
      "Epoch 47/50\n",
      "228/228 [==============================] - 18s 78ms/step - loss: 2.1641 - accuracy: 0.5188\n",
      "Epoch 48/50\n",
      "228/228 [==============================] - 18s 79ms/step - loss: 2.1212 - accuracy: 0.5250\n",
      "Epoch 49/50\n",
      "228/228 [==============================] - 18s 79ms/step - loss: 2.0770 - accuracy: 0.5338\n",
      "Epoch 50/50\n",
      "228/228 [==============================] - 19s 82ms/step - loss: 2.0300 - accuracy: 0.5448\n"
     ]
    },
    {
     "name": "stderr",
     "output_type": "stream",
     "text": [
      "WARNING:absl:Found untraced functions such as _update_step_xla, lstm_cell_1_layer_call_fn, lstm_cell_1_layer_call_and_return_conditional_losses, lstm_cell_2_layer_call_fn, lstm_cell_2_layer_call_and_return_conditional_losses while saving (showing 5 of 5). These functions will not be directly callable after loading.\n"
     ]
    },
    {
     "name": "stdout",
     "output_type": "stream",
     "text": [
      "INFO:tensorflow:Assets written to: models/lstm/assets\n"
     ]
    },
    {
     "name": "stderr",
     "output_type": "stream",
     "text": [
      "INFO:tensorflow:Assets written to: models/lstm/assets\n"
     ]
    }
   ],
   "source": [
    "tokenizer = t.get_tokenizer(corpus)\n",
    "vocab_size = len(tokenizer.word_index) + 1\n",
    "\n",
    "model1, history1 = t.train_model(x1, y1, vocab_size=vocab_size, n_epochs = 50, learning_rate = 0.001, batch_size=256)\n",
    "model2, history2 = t.train_model(x2, y2, vocab_size=vocab_size, n_epochs = 50, learning_rate = 0.001, batch_size=256)\n",
    "model3, history3 = t.train_model(x3, y3, vocab_size=vocab_size, n_epochs = 50, learning_rate = 0.001, batch_size=256)"
   ]
  },
  {
   "cell_type": "code",
   "execution_count": 25,
   "metadata": {},
   "outputs": [
    {
     "name": "stderr",
     "output_type": "stream",
     "text": [
      "WARNING:absl:Found untraced functions such as _update_step_xla, lstm_cell_1_layer_call_fn, lstm_cell_1_layer_call_and_return_conditional_losses, lstm_cell_2_layer_call_fn, lstm_cell_2_layer_call_and_return_conditional_losses while saving (showing 5 of 5). These functions will not be directly callable after loading.\n"
     ]
    },
    {
     "name": "stdout",
     "output_type": "stream",
     "text": [
      "INFO:tensorflow:Assets written to: model1/assets\n"
     ]
    },
    {
     "name": "stderr",
     "output_type": "stream",
     "text": [
      "INFO:tensorflow:Assets written to: model1/assets\n",
      "WARNING:absl:Found untraced functions such as _update_step_xla, lstm_cell_1_layer_call_fn, lstm_cell_1_layer_call_and_return_conditional_losses, lstm_cell_2_layer_call_fn, lstm_cell_2_layer_call_and_return_conditional_losses while saving (showing 5 of 5). These functions will not be directly callable after loading.\n"
     ]
    },
    {
     "name": "stdout",
     "output_type": "stream",
     "text": [
      "INFO:tensorflow:Assets written to: model2/assets\n"
     ]
    },
    {
     "name": "stderr",
     "output_type": "stream",
     "text": [
      "INFO:tensorflow:Assets written to: model2/assets\n",
      "WARNING:absl:Found untraced functions such as _update_step_xla, lstm_cell_1_layer_call_fn, lstm_cell_1_layer_call_and_return_conditional_losses, lstm_cell_2_layer_call_fn, lstm_cell_2_layer_call_and_return_conditional_losses while saving (showing 5 of 5). These functions will not be directly callable after loading.\n"
     ]
    },
    {
     "name": "stdout",
     "output_type": "stream",
     "text": [
      "INFO:tensorflow:Assets written to: model3/assets\n"
     ]
    },
    {
     "name": "stderr",
     "output_type": "stream",
     "text": [
      "INFO:tensorflow:Assets written to: model3/assets\n"
     ]
    },
    {
     "ename": "TypeError",
     "evalue": "'str' object cannot be interpreted as an integer",
     "output_type": "error",
     "traceback": [
      "\u001b[0;31m---------------------------------------------------------------------------\u001b[0m",
      "\u001b[0;31mTypeError\u001b[0m                                 Traceback (most recent call last)",
      "Cell \u001b[0;32mIn[25], line 5\u001b[0m\n\u001b[1;32m      2\u001b[0m model2\u001b[38;5;241m.\u001b[39msave(\u001b[38;5;124m'\u001b[39m\u001b[38;5;124mmodel2\u001b[39m\u001b[38;5;124m'\u001b[39m)\n\u001b[1;32m      3\u001b[0m model3\u001b[38;5;241m.\u001b[39msave(\u001b[38;5;124m'\u001b[39m\u001b[38;5;124mmodel3\u001b[39m\u001b[38;5;124m'\u001b[39m)\n\u001b[0;32m----> 5\u001b[0m \u001b[43mt\u001b[49m\u001b[38;5;241;43m.\u001b[39;49m\u001b[43mgenerate_poem\u001b[49m\u001b[43m(\u001b[49m\u001b[43mmodel1\u001b[49m\u001b[43m,\u001b[49m\u001b[43m \u001b[49m\u001b[43mmodel2\u001b[49m\u001b[43m,\u001b[49m\u001b[43m \u001b[49m\u001b[43mmodel3\u001b[49m\u001b[43m,\u001b[49m\u001b[43m \u001b[49m\u001b[43mtokenizer\u001b[49m\u001b[43m,\u001b[49m\u001b[43m \u001b[49m\u001b[38;5;124;43m\"\u001b[39;49m\u001b[38;5;124;43mflames\u001b[39;49m\u001b[38;5;124;43m\"\u001b[39;49m\u001b[43m)\u001b[49m\n",
      "File \u001b[0;32m~/Desktop/cs1470/csci1470-final-project-POE-M/code/train_model_line_by_line.py:216\u001b[0m, in \u001b[0;36mgenerate_poem\u001b[0;34m(model, tokenizer, starter_poem, max_len, length)\u001b[0m\n\u001b[1;32m    <a href='file:///Users/christinejeong/Desktop/cs1470/csci1470-final-project-POE-M/code/train_model_line_by_line.py?line=214'>215</a>\u001b[0m \u001b[39mdef\u001b[39;00m \u001b[39msyllable_count\u001b[39m(word):\n\u001b[0;32m--> <a href='file:///Users/christinejeong/Desktop/cs1470/csci1470-final-project-POE-M/code/train_model_line_by_line.py?line=215'>216</a>\u001b[0m     \u001b[39m\"\u001b[39m\u001b[39msource https://stackoverflow.com/questions/46759492/syllable-count-in-python\u001b[39m\u001b[39m\"\u001b[39m\n\u001b[1;32m    <a href='file:///Users/christinejeong/Desktop/cs1470/csci1470-final-project-POE-M/code/train_model_line_by_line.py?line=216'>217</a>\u001b[0m     \u001b[39mif\u001b[39;00m word\u001b[39m.\u001b[39mstrip() \u001b[39m==\u001b[39m \u001b[39m\"\u001b[39m\u001b[39m\"\u001b[39m:\n\u001b[1;32m    <a href='file:///Users/christinejeong/Desktop/cs1470/csci1470-final-project-POE-M/code/train_model_line_by_line.py?line=217'>218</a>\u001b[0m         \u001b[39mreturn\u001b[39;00m \u001b[39m0\u001b[39m\n",
      "\u001b[0;31mTypeError\u001b[0m: 'str' object cannot be interpreted as an integer"
     ]
    }
   ],
   "source": [
    "model1.save('model1')\n",
    "model2.save('model2')\n",
    "model3.save('model3')\n",
    "\n"
   ]
  },
  {
   "cell_type": "code",
   "execution_count": 33,
   "metadata": {},
   "outputs": [
    {
     "name": "stdout",
     "output_type": "stream",
     "text": [
      "flames cone bring\n",
      "fourteen picture thing haiku\n",
      "and lies the moment\n",
      "flames cars over\n",
      "half the dark pretty jumps and\n",
      "skies its skies lie in\n",
      "flames bright and empty\n",
      "yet i want to remember\n",
      "found and empty first\n",
      "flames chirps roars our\n",
      "open as i feel lived\n",
      "that than love i\n",
      "flames chirps ever\n",
      "the slow water with me float\n",
      "of tears behind bliss\n",
      "flames bright is haunting\n",
      "that i am sorry to am\n",
      "the new mind is doors\n",
      "flames runs and cool\n",
      "i dont do no face a\n",
      "new lap in a crowd\n"
     ]
    }
   ],
   "source": [
    "for _ in range(10):\n",
    "  print(t.generate_poem(model1, model2, model3, tokenizer, \"flames\"))\n",
    "  print(\"-----------\")"
   ]
  },
  {
   "cell_type": "code",
   "execution_count": null,
   "metadata": {},
   "outputs": [],
   "source": []
  }
 ],
 "metadata": {
  "interpreter": {
   "hash": "d8f96d5413b74ddc46885a35081fa54a9c7913f01fc2a6dfd5e34817588643e0"
  },
  "kernelspec": {
   "display_name": "Python 3.10.9",
   "language": "python",
   "name": "python3"
  },
  "language_info": {
   "codemirror_mode": {
    "name": "ipython",
    "version": 3
   },
   "file_extension": ".py",
   "mimetype": "text/x-python",
   "name": "python",
   "nbconvert_exporter": "python",
   "pygments_lexer": "ipython3",
   "version": "3.10.9"
  },
  "orig_nbformat": 4
 },
 "nbformat": 4,
 "nbformat_minor": 2
}
